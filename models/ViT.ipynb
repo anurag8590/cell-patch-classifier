{
 "cells": [
  {
   "cell_type": "code",
   "execution_count": 2,
   "id": "4e9bde03-5bc7-433d-9b96-a2e340f4bdb8",
   "metadata": {},
   "outputs": [
    {
     "data": {
      "application/vnd.jupyter.widget-view+json": {
       "model_id": "f7542483c32949d9b33f92d847372d4e",
       "version_major": 2,
       "version_minor": 0
      },
      "text/plain": [
       "VBox(children=(HTML(value='<center> <img\\nsrc=https://huggingface.co/front/assets/huggingface_logo-noborder.sv…"
      ]
     },
     "metadata": {},
     "output_type": "display_data"
    }
   ],
   "source": [
    "## Logging into Hugging face hub\n",
    "\n",
    "from huggingface_hub import notebook_login\n",
    "\n",
    "notebook_login()"
   ]
  },
  {
   "cell_type": "code",
   "execution_count": 3,
   "id": "8a8f9f8c-8fdd-4ba7-805d-ab767af43dc4",
   "metadata": {},
   "outputs": [],
   "source": [
    "import os, random\n",
    "# os.environ['TOKENIZERS_PARALLELISM']='false'\n",
    "\n",
    "from tqdm import tqdm\n",
    "\n",
    "import numpy as np\n",
    "import pandas as pd\n",
    "\n",
    "import datasets\n",
    "from datasets import load_dataset, Image, load_metric, DatasetDict\n",
    "\n",
    "import transformers\n",
    "from transformers import Trainer, TrainingArguments\n",
    "from transformers import AutoImageProcessor, AutoModelForImageClassification\n",
    "from transformers import EarlyStoppingCallback \n",
    "\n",
    "from sklearn.metrics import ConfusionMatrixDisplay, confusion_matrix, classification_report\n",
    "import matplotlib.pyplot as plt\n",
    "\n",
    "import torch\n",
    "\n",
    "import evaluate"
   ]
  },
  {
   "cell_type": "code",
   "execution_count": 4,
   "id": "17b36957-3ef9-46d8-aa2c-ee0d37a820a9",
   "metadata": {},
   "outputs": [
    {
     "data": {
      "text/plain": [
       "<torch._C.Generator at 0x19aa929db10>"
      ]
     },
     "execution_count": 4,
     "metadata": {},
     "output_type": "execute_result"
    }
   ],
   "source": [
    "SEED = 42\n",
    "\n",
    "random.seed(SEED)\n",
    "torch.manual_seed(SEED)"
   ]
  },
  {
   "cell_type": "code",
   "execution_count": 5,
   "id": "a71a53f9-6154-47cb-a64c-d874e8b516fd",
   "metadata": {},
   "outputs": [],
   "source": [
    "import torch\n",
    "device = torch.device('cuda' if torch.cuda.is_available() else 'cpu')"
   ]
  },
  {
   "cell_type": "code",
   "execution_count": 6,
   "id": "f63d0788-f6b3-40dc-a5c0-6b8e4433cd30",
   "metadata": {},
   "outputs": [
    {
     "data": {
      "text/plain": [
       "device(type='cuda')"
      ]
     },
     "execution_count": 6,
     "metadata": {},
     "output_type": "execute_result"
    }
   ],
   "source": [
    "device"
   ]
  },
  {
   "cell_type": "code",
   "execution_count": 7,
   "id": "fd3a9c5c-abae-4661-a57f-dd28bd09ac81",
   "metadata": {},
   "outputs": [],
   "source": [
    "from datasets import load_dataset"
   ]
  },
  {
   "cell_type": "code",
   "execution_count": 10,
   "id": "6b4a539f-d41c-4188-a546-e8f84d52070a",
   "metadata": {},
   "outputs": [],
   "source": [
    "# dataset = load_dataset(\"imagefolder\", data_dir=\"data/Augmented_Splitted/\")\n",
    "# dataset = dataset.shuffle(seed=SEED)\n",
    "# dataset.push_to_hub(\"pcam-augmented-train-test-val-50k\")"
   ]
  },
  {
   "cell_type": "code",
   "execution_count": 7,
   "id": "0ce30fb3-2556-4457-9a9c-dd19b4217e74",
   "metadata": {},
   "outputs": [],
   "source": [
    "# loading the data from hugging face which was already pushed.\n",
    "\n",
    "dataset = load_dataset('anurag2op/pcam-augmented-train-test-val-50k')"
   ]
  },
  {
   "cell_type": "code",
   "execution_count": 8,
   "id": "acc6b365-338b-45a5-9a46-0011ab475195",
   "metadata": {},
   "outputs": [
    {
     "data": {
      "text/plain": [
       "DatasetDict({\n",
       "    train: Dataset({\n",
       "        features: ['image', 'label'],\n",
       "        num_rows: 30000\n",
       "    })\n",
       "    validation: Dataset({\n",
       "        features: ['image', 'label'],\n",
       "        num_rows: 10000\n",
       "    })\n",
       "    test: Dataset({\n",
       "        features: ['image', 'label'],\n",
       "        num_rows: 10000\n",
       "    })\n",
       "})"
      ]
     },
     "execution_count": 8,
     "metadata": {},
     "output_type": "execute_result"
    }
   ],
   "source": [
    "dataset"
   ]
  },
  {
   "cell_type": "code",
   "execution_count": 9,
   "id": "3377282c-c928-4f20-a334-162d7d3f02b5",
   "metadata": {},
   "outputs": [],
   "source": [
    "dataset = dataset.shuffle(seed=42)"
   ]
  },
  {
   "cell_type": "code",
   "execution_count": 10,
   "id": "2e207ea6-6f13-4617-8fb2-7866cf54e029",
   "metadata": {},
   "outputs": [],
   "source": [
    "train_ds = dataset['train']\n",
    "test_ds = dataset['test']\n",
    "val_ds = dataset['validation']"
   ]
  },
  {
   "cell_type": "code",
   "execution_count": 19,
   "id": "781fc8d4-302f-4c40-9e55-f2e9bcef1da3",
   "metadata": {},
   "outputs": [],
   "source": [
    "MODEL_CKPT='google/vit-large-patch16-224-in21k'\n",
    "\n",
    "NUM_OF_EPOCHS = 5\n",
    "\n",
    "LEARNING_RATE=2e-4\n",
    "\n",
    "STEPS=100\n",
    "\n",
    "BATCH_SIZE = 16"
   ]
  },
  {
   "cell_type": "code",
   "execution_count": 12,
   "id": "2dd0812a-860c-4fd6-9f8e-7df326743121",
   "metadata": {},
   "outputs": [
    {
     "data": {
      "text/plain": [
       "{'image': Image(decode=True, id=None),\n",
       " 'label': ClassLabel(names=['non_tumor', 'tumor'], id=None)}"
      ]
     },
     "execution_count": 12,
     "metadata": {},
     "output_type": "execute_result"
    }
   ],
   "source": [
    "dataset[\"train\"].features"
   ]
  },
  {
   "cell_type": "code",
   "execution_count": 13,
   "id": "ef7d636a-8a17-4921-95b9-6eeabeb783a9",
   "metadata": {},
   "outputs": [
    {
     "data": {
      "image/jpeg": "[encoded data removed]",
      "image/png": "[encoded data removed]",
      "text/plain": [
       "<PIL.PngImagePlugin.PngImageFile image mode=RGB size=96x96>"
      ]
     },
     "execution_count": 13,
     "metadata": {},
     "output_type": "execute_result"
    }
   ],
   "source": [
    "example = dataset[\"train\"][2222]\n",
    "example['image'] "
   ]
  },
  {
   "cell_type": "code",
   "execution_count": 14,
   "id": "e0733721-efe1-4227-8df4-6e93aff1f7db",
   "metadata": {},
   "outputs": [
    {
     "data": {
      "text/plain": [
       "1"
      ]
     },
     "execution_count": 14,
     "metadata": {},
     "output_type": "execute_result"
    }
   ],
   "source": [
    "example['label']"
   ]
  },
  {
   "cell_type": "markdown",
   "id": "7ed3cf27-674c-40a6-946e-26e72d748ebc",
   "metadata": {},
   "source": [
    "#### Metrics - Accuracy, Precision, Recall & f1 score"
   ]
  },
  {
   "cell_type": "code",
   "execution_count": 15,
   "id": "0b5611a6-779e-4617-9a54-7e9c3d3e17f1",
   "metadata": {},
   "outputs": [],
   "source": [
    "def compute_metrics(p):\n",
    "    accuracy_metric = evaluate.load(\"accuracy\")\n",
    "    accuracy = accuracy_metric.compute(predictions=np.argmax(p.predictions, axis=1), references=p.label_ids)['accuracy']\n",
    "    \n",
    "    ### ------------------- F1 scores -------------------\n",
    "    \n",
    "    f1_score_metric = evaluate.load(\"f1\")\n",
    "    weighted_f1_score = f1_score_metric.compute(predictions=np.argmax(p.predictions, axis=1), references=p.label_ids, average='weighted')[\"f1\"]\n",
    "    micro_f1_score = f1_score_metric.compute(predictions=np.argmax(p.predictions, axis=1), references=p.label_ids, average='micro')['f1']\n",
    "    macro_f1_score = f1_score_metric.compute(predictions=np.argmax(p.predictions, axis=1), references=p.label_ids, average='macro')[\"f1\"]\n",
    "    \n",
    "    ### ------------------- recall -------------------\n",
    "    \n",
    "    recall_metric = evaluate.load(\"recall\")\n",
    "    weighted_recall = recall_metric.compute(predictions=np.argmax(p.predictions, axis=1), references=p.label_ids, average='weighted')[\"recall\"]\n",
    "    micro_recall = recall_metric.compute(predictions=np.argmax(p.predictions, axis=1), references=p.label_ids, average='micro')[\"recall\"]\n",
    "    macro_recall = recall_metric.compute(predictions=np.argmax(p.predictions, axis=1), references=p.label_ids, average='macro')[\"recall\"]\n",
    "    \n",
    "    ### ------------------- precision -------------------\n",
    "    \n",
    "    precision_metric = evaluate.load(\"precision\")\n",
    "    weighted_precision = precision_metric.compute(predictions=np.argmax(p.predictions, axis=1), references=p.label_ids, average='weighted')[\"precision\"]\n",
    "    micro_precision = precision_metric.compute(predictions=np.argmax(p.predictions, axis=1), references=p.label_ids, average='micro')[\"precision\"]\n",
    "    macro_precision = precision_metric.compute(predictions=np.argmax(p.predictions, axis=1), references=p.label_ids, average='macro')[\"precision\"]\n",
    "    \n",
    "    return {\"accuracy\" : accuracy, \n",
    "            \"Weighted F1\" : weighted_f1_score,\n",
    "            \"Micro F1\" : micro_f1_score,\n",
    "            \"Macro F1\" : macro_f1_score,\n",
    "            \"Weighted Recall\" : weighted_recall,\n",
    "            \"Micro Recall\" : micro_recall,\n",
    "            \"Macro Recall\" : macro_recall,\n",
    "            \"Weighted Precision\" : weighted_precision,\n",
    "            \"Micro Precision\" : micro_precision,\n",
    "            \"Macro Precision\" : macro_precision\n",
    "            }"
   ]
  },
  {
   "cell_type": "code",
   "execution_count": 16,
   "id": "49ff04ce-c1e9-47a0-8b62-de6354e3d362",
   "metadata": {},
   "outputs": [],
   "source": [
    "# creating id2label and label2id to decode the numbers back to string for convenience\n",
    "\n",
    "labels = dataset[\"train\"].features[\"label\"].names\n",
    "label2id, id2label = dict(), dict()\n",
    "for i, label in enumerate(labels):\n",
    "    label2id[label] = i\n",
    "    id2label[i] = label"
   ]
  },
  {
   "cell_type": "code",
   "execution_count": 17,
   "id": "5fc8f448-2814-4e8a-823d-6fe70d91159e",
   "metadata": {},
   "outputs": [
    {
     "data": {
      "text/plain": [
       "('non_tumor', 'tumor')"
      ]
     },
     "execution_count": 17,
     "metadata": {},
     "output_type": "execute_result"
    }
   ],
   "source": [
    "id2label[0] , id2label[1] "
   ]
  },
  {
   "cell_type": "code",
   "execution_count": 20,
   "id": "1430815d-54fc-4dc7-a8e1-50d201128fd7",
   "metadata": {},
   "outputs": [
    {
     "data": {
      "application/vnd.jupyter.widget-view+json": {
       "model_id": "cab09a96e23c42f7bcd76837b7c5282a",
       "version_major": 2,
       "version_minor": 0
      },
      "text/plain": [
       "preprocessor_config.json:   0%|          | 0.00/160 [00:00<?, ?B/s]"
      ]
     },
     "metadata": {},
     "output_type": "display_data"
    },
    {
     "name": "stderr",
     "output_type": "stream",
     "text": [
      "C:\\Users\\DSAI\\anaconda3\\envs\\tf\\lib\\site-packages\\huggingface_hub\\file_download.py:147: UserWarning: `huggingface_hub` cache-system uses symlinks by default to efficiently store duplicated files but your machine does not support them in C:\\Users\\DSAI\\.cache\\huggingface\\hub. Caching files will still work but in a degraded version that might require more space on your disk. This warning can be disabled by setting the `HF_HUB_DISABLE_SYMLINKS_WARNING` environment variable. For more details, see https://huggingface.co/docs/huggingface_hub/how-to-cache#limitations.\n",
      "To support symlinks on Windows, you either need to activate Developer Mode or to run Python as an administrator. In order to see activate developer mode, see this article: https://docs.microsoft.com/en-us/windows/apps/get-started/enable-your-device-for-development\n",
      "  warnings.warn(message)\n"
     ]
    },
    {
     "data": {
      "application/vnd.jupyter.widget-view+json": {
       "model_id": "47a9b591d1dc46a9821d9f79f54ca866",
       "version_major": 2,
       "version_minor": 0
      },
      "text/plain": [
       "config.json:   0%|          | 0.00/504 [00:00<?, ?B/s]"
      ]
     },
     "metadata": {},
     "output_type": "display_data"
    }
   ],
   "source": [
    "image_processor  = AutoImageProcessor.from_pretrained(MODEL_CKPT)"
   ]
  },
  {
   "cell_type": "code",
   "execution_count": 21,
   "id": "6610e5bf-07dd-4830-98d3-f713f6a01b7c",
   "metadata": {},
   "outputs": [
    {
     "data": {
      "text/plain": [
       "ViTImageProcessor {\n",
       "  \"do_normalize\": true,\n",
       "  \"do_rescale\": true,\n",
       "  \"do_resize\": true,\n",
       "  \"image_mean\": [\n",
       "    0.5,\n",
       "    0.5,\n",
       "    0.5\n",
       "  ],\n",
       "  \"image_processor_type\": \"ViTImageProcessor\",\n",
       "  \"image_std\": [\n",
       "    0.5,\n",
       "    0.5,\n",
       "    0.5\n",
       "  ],\n",
       "  \"resample\": 2,\n",
       "  \"rescale_factor\": 0.00392156862745098,\n",
       "  \"size\": {\n",
       "    \"height\": 224,\n",
       "    \"width\": 224\n",
       "  }\n",
       "}"
      ]
     },
     "execution_count": 21,
     "metadata": {},
     "output_type": "execute_result"
    }
   ],
   "source": [
    "image_processor"
   ]
  },
  {
   "cell_type": "code",
   "execution_count": 22,
   "id": "e24f4acd-0eb6-4874-8cb1-0cfb67d2c9cb",
   "metadata": {},
   "outputs": [],
   "source": [
    "from torchvision.transforms import (\n",
    "    Normalize,\n",
    "    Compose,\n",
    "    Resize,\n",
    "    ToTensor,\n",
    ")\n",
    "\n",
    "normalize = Normalize(mean=image_processor.image_mean, std=image_processor.image_std)\n",
    "    \n",
    "transforms = Compose(\n",
    "        [\n",
    "            Resize(image_processor.size['height']),\n",
    "            ToTensor(),\n",
    "            normalize\n",
    "        ]\n",
    "    )\n",
    "\n",
    "def preprocess(example_batch):\n",
    "    \"\"\"Apply train_transforms across a batch.\"\"\"\n",
    "    example_batch[\"pixel_values\"] = [\n",
    "        transforms(image.convert(\"RGB\")) for image in example_batch[\"image\"]\n",
    "    ]\n",
    "    \n",
    "    return example_batch\n"
   ]
  },
  {
   "cell_type": "code",
   "execution_count": 23,
   "id": "3e73ffa9-7467-48e0-84a0-eb056b1aa102",
   "metadata": {},
   "outputs": [],
   "source": [
    "train_ds.set_transform(preprocess)\n",
    "val_ds.set_transform(preprocess)\n",
    "test_ds.set_transform(preprocess)"
   ]
  },
  {
   "cell_type": "code",
   "execution_count": 24,
   "id": "9c8456ea-5f5e-49f7-aa48-6427eec37cda",
   "metadata": {},
   "outputs": [
    {
     "data": {
      "text/plain": [
       "{'image': <PIL.PngImagePlugin.PngImageFile image mode=RGB size=96x96>,\n",
       " 'label': 1,\n",
       " 'pixel_values': tensor([[[-0.3333, -0.3569, -0.4353,  ...,  0.1294,  0.1294,  0.1294],\n",
       "          [-0.3333, -0.3569, -0.4353,  ...,  0.1294,  0.1294,  0.1294],\n",
       "          [-0.3333, -0.3569, -0.4353,  ...,  0.1294,  0.1294,  0.1294],\n",
       "          ...,\n",
       "          [ 0.3490,  0.3020,  0.1843,  ...,  0.0980,  0.0980,  0.0980],\n",
       "          [ 0.2392,  0.1686, -0.0588,  ...,  0.1843,  0.1843,  0.1843],\n",
       "          [ 0.2078,  0.1216, -0.1451,  ...,  0.2157,  0.2157,  0.2157]],\n",
       " \n",
       "         [[-0.6549, -0.6784, -0.7569,  ..., -0.1686, -0.1686, -0.1686],\n",
       "          [-0.6549, -0.6784, -0.7569,  ..., -0.1686, -0.1686, -0.1686],\n",
       "          [-0.6549, -0.6784, -0.7569,  ..., -0.1686, -0.1686, -0.1686],\n",
       "          ...,\n",
       "          [ 0.0510,  0.0118, -0.1059,  ..., -0.2078, -0.2078, -0.2078],\n",
       "          [-0.1059, -0.1765, -0.3961,  ..., -0.1294, -0.1294, -0.1294],\n",
       "          [-0.1529, -0.2392, -0.4902,  ..., -0.0980, -0.0980, -0.0980]],\n",
       " \n",
       "         [[-0.1765, -0.2078, -0.2941,  ...,  0.2157,  0.2157,  0.2157],\n",
       "          [-0.1765, -0.2078, -0.2941,  ...,  0.2157,  0.2157,  0.2157],\n",
       "          [-0.1765, -0.2078, -0.2941,  ...,  0.2157,  0.2157,  0.2157],\n",
       "          ...,\n",
       "          [ 0.5608,  0.5294,  0.4039,  ...,  0.2235,  0.2235,  0.2235],\n",
       "          [ 0.4510,  0.3725,  0.1451,  ...,  0.3176,  0.3176,  0.3176],\n",
       "          [ 0.4118,  0.3255,  0.0588,  ...,  0.3490,  0.3490,  0.3490]]])}"
      ]
     },
     "execution_count": 24,
     "metadata": {},
     "output_type": "execute_result"
    }
   ],
   "source": [
    "train_ds[0]"
   ]
  },
  {
   "cell_type": "code",
   "execution_count": 25,
   "id": "cdb644ea-5304-48d2-a06d-667d21f652f1",
   "metadata": {},
   "outputs": [
    {
     "data": {
      "application/vnd.jupyter.widget-view+json": {
       "model_id": "530ca140cb9a49a29ae783b15d384400",
       "version_major": 2,
       "version_minor": 0
      },
      "text/plain": [
       "pytorch_model.bin:   0%|          | 0.00/1.22G [00:00<?, ?B/s]"
      ]
     },
     "metadata": {},
     "output_type": "display_data"
    },
    {
     "name": "stderr",
     "output_type": "stream",
     "text": [
      "Some weights of ViTForImageClassification were not initialized from the model checkpoint at google/vit-large-patch16-224-in21k and are newly initialized: ['classifier.bias', 'classifier.weight']\n",
      "You should probably TRAIN this model on a down-stream task to be able to use it for predictions and inference.\n"
     ]
    }
   ],
   "source": [
    "model = AutoModelForImageClassification.from_pretrained(\n",
    "    MODEL_CKPT,\n",
    "    label2id=label2id,\n",
    "    id2label=id2label,\n",
    "    ignore_mismatched_sizes = True, # provide this in case you're planning to fine-tune an already fine-tuned checkpoint\n",
    ").to(device)"
   ]
  },
  {
   "cell_type": "code",
   "execution_count": 27,
   "id": "bcb40de6-3d98-46ba-bc1e-0f0eee2ad194",
   "metadata": {},
   "outputs": [],
   "source": [
    "model_name = MODEL_CKPT.split(\"/\")[-1]\n",
    "\n",
    "args = TrainingArguments(\n",
    "    f\"{model_name}-pcam-finetuned\",\n",
    "    remove_unused_columns=False,\n",
    "    evaluation_strategy = \"epoch\",\n",
    "    save_strategy = \"epoch\",\n",
    "    learning_rate=LEARNING_RATE,\n",
    "    per_device_train_batch_size=BATCH_SIZE,\n",
    "    per_device_eval_batch_size=BATCH_SIZE,\n",
    "    num_train_epochs=NUM_OF_EPOCHS,\n",
    "    weight_decay=0.01,\n",
    "    logging_steps=10,\n",
    "    load_best_model_at_end=True,\n",
    "    metric_for_best_model=\"accuracy\",\n",
    "    logging_dir='./logs'\n",
    ")"
   ]
  },
  {
   "cell_type": "code",
   "execution_count": 28,
   "id": "81d7c488-4763-4237-bad8-11c51cd4042b",
   "metadata": {},
   "outputs": [],
   "source": [
    "# creating a function to put together a list of samples into a mini training batch.\n",
    "\n",
    "def collate_fn(examples):\n",
    "    pixel_values = torch.stack([example[\"pixel_values\"] for example in examples])\n",
    "    labels = torch.tensor([example[\"label\"] for example in examples])\n",
    "    return {\"pixel_values\": pixel_values, \"labels\": labels}"
   ]
  },
  {
   "cell_type": "code",
   "execution_count": 29,
   "id": "fe683319-9938-4cac-95ca-0dd87bc31e30",
   "metadata": {},
   "outputs": [],
   "source": [
    "## callback for early stoppping\n",
    "\n",
    "early_stopping = EarlyStoppingCallback(early_stopping_patience=2, early_stopping_threshold=0.01)"
   ]
  },
  {
   "cell_type": "code",
   "execution_count": 30,
   "id": "b933ff41-35e8-45c6-9925-08587775b7fa",
   "metadata": {},
   "outputs": [],
   "source": [
    "# initiate the Trainer\n",
    "\n",
    "trainer = Trainer(\n",
    "    model,\n",
    "    args,\n",
    "    train_dataset = train_ds,\n",
    "    eval_dataset = val_ds,\n",
    "    tokenizer = image_processor,\n",
    "    compute_metrics = compute_metrics,\n",
    "    data_collator = collate_fn,\n",
    "    callbacks=[early_stopping]\n",
    "    \n",
    ")"
   ]
  },
  {
   "cell_type": "code",
   "execution_count": 31,
   "id": "f8b0d0a1-a6d5-4b59-876d-720d7b73219c",
   "metadata": {},
   "outputs": [
    {
     "data": {
      "text/html": [
       "\n",
       "    <div>\n",
       "      \n",
       "      <progress value='9375' max='9375' style='width:300px; height:20px; vertical-align: middle;'></progress>\n",
       "      [9375/9375 3:11:32, Epoch 5/5]\n",
       "    </div>\n",
       "    <table border=\"1\" class=\"dataframe\">\n",
       "  <thead>\n",
       " <tr style=\"text-align: left;\">\n",
       "      <th>Epoch</th>\n",
       "      <th>Training Loss</th>\n",
       "      <th>Validation Loss</th>\n",
       "      <th>Accuracy</th>\n",
       "      <th>Weighted f1</th>\n",
       "      <th>Micro f1</th>\n",
       "      <th>Macro f1</th>\n",
       "      <th>Weighted recall</th>\n",
       "      <th>Micro recall</th>\n",
       "      <th>Macro recall</th>\n",
       "      <th>Weighted precision</th>\n",
       "      <th>Micro precision</th>\n",
       "      <th>Macro precision</th>\n",
       "    </tr>\n",
       "  </thead>\n",
       "  <tbody>\n",
       "    <tr>\n",
       "      <td>1</td>\n",
       "      <td>0.454900</td>\n",
       "      <td>0.385383</td>\n",
       "      <td>0.830500</td>\n",
       "      <td>0.830469</td>\n",
       "      <td>0.830500</td>\n",
       "      <td>0.830469</td>\n",
       "      <td>0.830500</td>\n",
       "      <td>0.830500</td>\n",
       "      <td>0.830500</td>\n",
       "      <td>0.830741</td>\n",
       "      <td>0.830500</td>\n",
       "      <td>0.830741</td>\n",
       "    </tr>\n",
       "    <tr>\n",
       "      <td>2</td>\n",
       "      <td>0.334300</td>\n",
       "      <td>0.407916</td>\n",
       "      <td>0.826200</td>\n",
       "      <td>0.824380</td>\n",
       "      <td>0.826200</td>\n",
       "      <td>0.824380</td>\n",
       "      <td>0.826200</td>\n",
       "      <td>0.826200</td>\n",
       "      <td>0.826200</td>\n",
       "      <td>0.840307</td>\n",
       "      <td>0.826200</td>\n",
       "      <td>0.840307</td>\n",
       "    </tr>\n",
       "    <tr>\n",
       "      <td>3</td>\n",
       "      <td>0.281500</td>\n",
       "      <td>0.323113</td>\n",
       "      <td>0.857400</td>\n",
       "      <td>0.857400</td>\n",
       "      <td>0.857400</td>\n",
       "      <td>0.857400</td>\n",
       "      <td>0.857400</td>\n",
       "      <td>0.857400</td>\n",
       "      <td>0.857400</td>\n",
       "      <td>0.857403</td>\n",
       "      <td>0.857400</td>\n",
       "      <td>0.857403</td>\n",
       "    </tr>\n",
       "    <tr>\n",
       "      <td>4</td>\n",
       "      <td>0.302900</td>\n",
       "      <td>0.330067</td>\n",
       "      <td>0.862800</td>\n",
       "      <td>0.862390</td>\n",
       "      <td>0.862800</td>\n",
       "      <td>0.862390</td>\n",
       "      <td>0.862800</td>\n",
       "      <td>0.862800</td>\n",
       "      <td>0.862800</td>\n",
       "      <td>0.867178</td>\n",
       "      <td>0.862800</td>\n",
       "      <td>0.867178</td>\n",
       "    </tr>\n",
       "    <tr>\n",
       "      <td>5</td>\n",
       "      <td>0.286700</td>\n",
       "      <td>0.317541</td>\n",
       "      <td>0.875900</td>\n",
       "      <td>0.875896</td>\n",
       "      <td>0.875900</td>\n",
       "      <td>0.875896</td>\n",
       "      <td>0.875900</td>\n",
       "      <td>0.875900</td>\n",
       "      <td>0.875900</td>\n",
       "      <td>0.875952</td>\n",
       "      <td>0.875900</td>\n",
       "      <td>0.875952</td>\n",
       "    </tr>\n",
       "  </tbody>\n",
       "</table><p>"
      ],
      "text/plain": [
       "<IPython.core.display.HTML object>"
      ]
     },
     "metadata": {},
     "output_type": "display_data"
    }
   ],
   "source": [
    "# train the model\n",
    "\n",
    "train_results = trainer.train()"
   ]
  },
  {
   "cell_type": "code",
   "execution_count": 32,
   "id": "f09fee28-6745-4e1d-8e95-506b0ddd80c8",
   "metadata": {},
   "outputs": [],
   "source": [
    "#saving the model in local drive\n",
    "\n",
    "trainer.save_model()"
   ]
  },
  {
   "cell_type": "code",
   "execution_count": 33,
   "id": "ce01fe86-e2e1-44fe-8ada-6c2f27113eae",
   "metadata": {},
   "outputs": [
    {
     "name": "stdout",
     "output_type": "stream",
     "text": [
      "***** train metrics *****\n",
      "  epoch                    =           5.0\n",
      "  total_flos               = 38268162849GF\n",
      "  train_loss               =        0.3454\n",
      "  train_runtime            =    3:11:35.54\n",
      "  train_samples_per_second =        13.049\n",
      "  train_steps_per_second   =         0.816\n"
     ]
    }
   ],
   "source": [
    "trainer.log_metrics(\"train\", train_results.metrics)\n",
    "trainer.save_metrics(\"train\", train_results.metrics)"
   ]
  },
  {
   "cell_type": "code",
   "execution_count": 34,
   "id": "59b55378-16bd-4a4e-ac2e-9673dc89c1cb",
   "metadata": {},
   "outputs": [],
   "source": [
    "trainer.save_state()"
   ]
  },
  {
   "cell_type": "code",
   "execution_count": 35,
   "id": "f5e7b423-589d-4b34-86c2-85ae686ca0ae",
   "metadata": {},
   "outputs": [
    {
     "data": {
      "text/html": [],
      "text/plain": [
       "<IPython.core.display.HTML object>"
      ]
     },
     "metadata": {},
     "output_type": "display_data"
    },
    {
     "name": "stdout",
     "output_type": "stream",
     "text": [
      "***** eval metrics *****\n",
      "  epoch                   =        5.0\n",
      "  eval_Macro F1           =     0.8673\n",
      "  eval_Macro Precision    =     0.8673\n",
      "  eval_Macro Recall       =     0.8673\n",
      "  eval_Micro F1           =     0.8673\n",
      "  eval_Micro Precision    =     0.8673\n",
      "  eval_Micro Recall       =     0.8673\n",
      "  eval_Weighted F1        =     0.8673\n",
      "  eval_Weighted Precision =     0.8673\n",
      "  eval_Weighted Recall    =     0.8673\n",
      "  eval_accuracy           =     0.8673\n",
      "  eval_loss               =      0.336\n",
      "  eval_runtime            = 0:04:01.56\n",
      "  eval_samples_per_second =     41.397\n",
      "  eval_steps_per_second   =      2.587\n"
     ]
    }
   ],
   "source": [
    "metrics = trainer.evaluate(test_ds)\n",
    "trainer.log_metrics(\"eval\", metrics)\n",
    "trainer.save_metrics(\"eval\", metrics)"
   ]
  },
  {
   "cell_type": "code",
   "execution_count": 36,
   "id": "d971655c-21e7-4d23-bedf-fd8935189a41",
   "metadata": {},
   "outputs": [],
   "source": [
    "predictions = trainer.predict(test_ds)"
   ]
  },
  {
   "cell_type": "code",
   "execution_count": 37,
   "id": "424b238a-a9d4-463c-b4bb-e319b1e3070b",
   "metadata": {},
   "outputs": [
    {
     "data": {
      "text/plain": [
       "array([[ 3.9647353 , -3.8196454 ],\n",
       "       [ 4.533644  , -4.4138346 ],\n",
       "       [ 0.9096314 , -0.7320923 ],\n",
       "       ...,\n",
       "       [ 0.9467531 , -0.79800093],\n",
       "       [ 2.820075  , -2.7671976 ],\n",
       "       [-1.2294534 ,  1.2261052 ]], dtype=float32)"
      ]
     },
     "execution_count": 37,
     "metadata": {},
     "output_type": "execute_result"
    }
   ],
   "source": [
    "predictions[0]"
   ]
  },
  {
   "cell_type": "code",
   "execution_count": 38,
   "id": "e96ea3c6-24af-414b-92a0-c38369e29992",
   "metadata": {},
   "outputs": [],
   "source": [
    "y_pred = np.argmax(predictions[0],axis=1)"
   ]
  },
  {
   "cell_type": "code",
   "execution_count": 39,
   "id": "a7b52f53-19dc-42ed-bf16-09e8bb8a1bf3",
   "metadata": {},
   "outputs": [
    {
     "data": {
      "text/plain": [
       "array([0, 0, 0, ..., 0, 0, 1], dtype=int64)"
      ]
     },
     "execution_count": 39,
     "metadata": {},
     "output_type": "execute_result"
    }
   ],
   "source": [
    "y_pred"
   ]
  },
  {
   "cell_type": "code",
   "execution_count": 40,
   "id": "315e5a02-3360-4617-bd35-fd2dbf1e2cab",
   "metadata": {},
   "outputs": [
    {
     "data": {
      "text/plain": [
       "(10000,)"
      ]
     },
     "execution_count": 40,
     "metadata": {},
     "output_type": "execute_result"
    }
   ],
   "source": [
    "y_pred.shape"
   ]
  },
  {
   "cell_type": "code",
   "execution_count": 41,
   "id": "b487af06-6ac2-44fa-8982-c59471387a9d",
   "metadata": {},
   "outputs": [],
   "source": [
    "y_test = []\n",
    "\n",
    "for i,j in enumerate(test_ds):\n",
    "    y_test.append(test_ds[i]['label'])"
   ]
  },
  {
   "cell_type": "code",
   "execution_count": 42,
   "id": "12c75a65-b3e7-4797-80bd-718d4fdb3298",
   "metadata": {},
   "outputs": [],
   "source": [
    "y_test = np.array(y_test)"
   ]
  },
  {
   "cell_type": "code",
   "execution_count": 43,
   "id": "6fab4c42-db70-4c9e-a7c9-0157b5f62ce9",
   "metadata": {},
   "outputs": [
    {
     "data": {
      "text/plain": [
       "array([0, 0, 0, ..., 0, 0, 1])"
      ]
     },
     "execution_count": 43,
     "metadata": {},
     "output_type": "execute_result"
    }
   ],
   "source": [
    "y_test"
   ]
  },
  {
   "cell_type": "code",
   "execution_count": 44,
   "id": "038e1c04-805b-4049-8894-51a3b1239617",
   "metadata": {},
   "outputs": [
    {
     "data": {
      "text/plain": [
       "(10000,)"
      ]
     },
     "execution_count": 44,
     "metadata": {},
     "output_type": "execute_result"
    }
   ],
   "source": [
    "y_test.shape"
   ]
  },
  {
   "cell_type": "code",
   "execution_count": 45,
   "id": "6e9c0bf8-3ea4-4639-87de-dc2f96bf6b04",
   "metadata": {},
   "outputs": [
    {
     "name": "stdout",
     "output_type": "stream",
     "text": [
      "[[4342  658]\n",
      " [ 669 4331]]\n"
     ]
    }
   ],
   "source": [
    "print(confusion_matrix(y_test,y_pred))"
   ]
  },
  {
   "cell_type": "code",
   "execution_count": 46,
   "id": "403ac510-45c1-4e1a-9c0b-9f8f64ec3e84",
   "metadata": {},
   "outputs": [
    {
     "name": "stdout",
     "output_type": "stream",
     "text": [
      "              precision    recall  f1-score   support\n",
      "\n",
      "           0       0.87      0.87      0.87      5000\n",
      "           1       0.87      0.87      0.87      5000\n",
      "\n",
      "    accuracy                           0.87     10000\n",
      "   macro avg       0.87      0.87      0.87     10000\n",
      "weighted avg       0.87      0.87      0.87     10000\n",
      "\n"
     ]
    }
   ],
   "source": [
    "print(classification_report(y_test,y_pred))"
   ]
  },
  {
   "cell_type": "code",
   "execution_count": 47,
   "id": "538b58a1-0c1e-4999-af31-132f16b690e5",
   "metadata": {},
   "outputs": [],
   "source": [
    "target_classes=[]\n",
    "\n",
    "label_map = { 0 :'non_tumor', 1:\"tumor\"}\n",
    "\n",
    "\n",
    "for i in label_map.values():\n",
    "    target_classes.append(i) "
   ]
  },
  {
   "cell_type": "code",
   "execution_count": 48,
   "id": "70cd43b4-d5f3-4f21-a08f-b7c3ca65bd0e",
   "metadata": {},
   "outputs": [
    {
     "data": {
      "text/plain": [
       "['non_tumor', 'tumor']"
      ]
     },
     "execution_count": 48,
     "metadata": {},
     "output_type": "execute_result"
    }
   ],
   "source": [
    "target_classes"
   ]
  },
  {
   "cell_type": "code",
   "execution_count": 50,
   "id": "f9915a7a-a81b-4684-a562-9bb473763bff",
   "metadata": {},
   "outputs": [
    {
     "data": {
      "image/png": "[encoded data removed]",
      "text/plain": [
       "<Figure size 640x480 with 2 Axes>"
      ]
     },
     "metadata": {},
     "output_type": "display_data"
    }
   ],
   "source": [
    "\n",
    "ax = ConfusionMatrixDisplay(confusion_matrix=confusion_matrix(y_test,y_pred), display_labels=target_classes)\n",
    "ax.plot()\n",
    "plt.savefig('ViT.png',format= 'png')\n",
    "plt.show()"
   ]
  },
  {
   "cell_type": "code",
   "execution_count": 51,
   "id": "a2deeebe-392b-4bdf-9847-0edec6fb7cb1",
   "metadata": {},
   "outputs": [
    {
     "data": {
      "application/vnd.jupyter.widget-view+json": {
       "model_id": "70fbfa12fd36485ca81c36ca779420f9",
       "version_major": 2,
       "version_minor": 0
      },
      "text/plain": [
       "model.safetensors:   0%|          | 0.00/1.21G [00:00<?, ?B/s]"
      ]
     },
     "metadata": {},
     "output_type": "display_data"
    },
    {
     "data": {
      "text/plain": [
       "CommitInfo(commit_url='https://huggingface.co/anurag2op/vit-large-patch16-224-in21k-finetuned-pcam/commit/c9afe5cf0474b45d6768a5f593f09a67e19e43fd', commit_message='Upload processor', commit_description='', oid='c9afe5cf0474b45d6768a5f593f09a67e19e43fd', pr_url=None, pr_revision=None, pr_num=None)"
      ]
     },
     "execution_count": 51,
     "metadata": {},
     "output_type": "execute_result"
    }
   ],
   "source": [
    "repo_name = \"vit-large-patch16-224-in21k-finetuned-pcam\"\n",
    "\n",
    "model.push_to_hub(repo_name)\n",
    "image_processor.push_to_hub(repo_name)"
   ]
  },
  {
   "cell_type": "code",
   "execution_count": null,
   "id": "07bfaa88-6339-41d5-a7d1-f73a86aee07d",
   "metadata": {},
   "outputs": [],
   "source": []
  }
 ],
 "metadata": {
  "kernelspec": {
   "display_name": "Python 3 (ipykernel)",
   "language": "python",
   "name": "python3"
  },
  "language_info": {
   "codemirror_mode": {
    "name": "ipython",
    "version": 3
   },
   "file_extension": ".py",
   "mimetype": "text/x-python",
   "name": "python",
   "nbconvert_exporter": "python",
   "pygments_lexer": "ipython3",
   "version": "3.10.13"
  }
 },
 "nbformat": 4,
 "nbformat_minor": 5
}
