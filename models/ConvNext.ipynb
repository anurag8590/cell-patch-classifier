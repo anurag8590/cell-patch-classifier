{
 "cells": [
  {
   "cell_type": "code",
   "execution_count": 1,
   "id": "4e9bde03-5bc7-433d-9b96-a2e340f4bdb8",
   "metadata": {},
   "outputs": [
    {
     "data": {
      "application/vnd.jupyter.widget-view+json": {
       "model_id": "eb15498ebd1741ee9205093aa86cfb9e",
       "version_major": 2,
       "version_minor": 0
      },
      "text/plain": [
       "VBox(children=(HTML(value='<center> <img\\nsrc=https://huggingface.co/front/assets/huggingface_logo-noborder.sv…"
      ]
     },
     "metadata": {},
     "output_type": "display_data"
    }
   ],
   "source": [
    "from huggingface_hub import notebook_login\n",
    "\n",
    "notebook_login()"
   ]
  },
  {
   "cell_type": "code",
   "execution_count": 2,
   "id": "8a8f9f8c-8fdd-4ba7-805d-ab767af43dc4",
   "metadata": {},
   "outputs": [],
   "source": [
    "import os, random\n",
    "# os.environ['TOKENIZERS_PARALLELISM']='false'\n",
    "\n",
    "from tqdm import tqdm\n",
    "\n",
    "import numpy as np\n",
    "import pandas as pd\n",
    "\n",
    "import datasets\n",
    "from datasets import load_dataset, Image, load_metric, DatasetDict\n",
    "\n",
    "import transformers\n",
    "from transformers import Trainer, TrainingArguments\n",
    "from transformers import ConvNextImageProcessor, AutoModelForImageClassification\n",
    "from transformers import EarlyStoppingCallback \n",
    "\n",
    "from sklearn.metrics import ConfusionMatrixDisplay, confusion_matrix, classification_report\n",
    "import matplotlib.pyplot as plt\n",
    "\n",
    "import torch\n",
    "\n",
    "import evaluate"
   ]
  },
  {
   "cell_type": "code",
   "execution_count": 3,
   "id": "17b36957-3ef9-46d8-aa2c-ee0d37a820a9",
   "metadata": {},
   "outputs": [
    {
     "data": {
      "text/plain": [
       "<torch._C.Generator at 0x1b4b33ead90>"
      ]
     },
     "execution_count": 3,
     "metadata": {},
     "output_type": "execute_result"
    }
   ],
   "source": [
    "SEED = 42\n",
    "\n",
    "random.seed(SEED)\n",
    "torch.manual_seed(SEED)"
   ]
  },
  {
   "cell_type": "code",
   "execution_count": 4,
   "id": "a71a53f9-6154-47cb-a64c-d874e8b516fd",
   "metadata": {},
   "outputs": [],
   "source": [
    "import torch\n",
    "device = torch.device('cuda' if torch.cuda.is_available() else 'cpu')"
   ]
  },
  {
   "cell_type": "code",
   "execution_count": 5,
   "id": "f63d0788-f6b3-40dc-a5c0-6b8e4433cd30",
   "metadata": {},
   "outputs": [
    {
     "data": {
      "text/plain": [
       "device(type='cuda')"
      ]
     },
     "execution_count": 5,
     "metadata": {},
     "output_type": "execute_result"
    }
   ],
   "source": [
    "device"
   ]
  },
  {
   "cell_type": "code",
   "execution_count": 6,
   "id": "fd3a9c5c-abae-4661-a57f-dd28bd09ac81",
   "metadata": {},
   "outputs": [],
   "source": [
    "from datasets import load_dataset"
   ]
  },
  {
   "cell_type": "code",
   "execution_count": 7,
   "id": "0ce30fb3-2556-4457-9a9c-dd19b4217e74",
   "metadata": {},
   "outputs": [],
   "source": [
    "dataset = load_dataset('anurag2op/pcam-augmented-train-test-val-50k')"
   ]
  },
  {
   "cell_type": "code",
   "execution_count": 8,
   "id": "acc6b365-338b-45a5-9a46-0011ab475195",
   "metadata": {},
   "outputs": [
    {
     "data": {
      "text/plain": [
       "DatasetDict({\n",
       "    train: Dataset({\n",
       "        features: ['image', 'label'],\n",
       "        num_rows: 30000\n",
       "    })\n",
       "    validation: Dataset({\n",
       "        features: ['image', 'label'],\n",
       "        num_rows: 10000\n",
       "    })\n",
       "    test: Dataset({\n",
       "        features: ['image', 'label'],\n",
       "        num_rows: 10000\n",
       "    })\n",
       "})"
      ]
     },
     "execution_count": 8,
     "metadata": {},
     "output_type": "execute_result"
    }
   ],
   "source": [
    "dataset"
   ]
  },
  {
   "cell_type": "code",
   "execution_count": 9,
   "id": "3377282c-c928-4f20-a334-162d7d3f02b5",
   "metadata": {},
   "outputs": [],
   "source": [
    "dataset = dataset.shuffle(seed=42)"
   ]
  },
  {
   "cell_type": "code",
   "execution_count": 10,
   "id": "2e207ea6-6f13-4617-8fb2-7866cf54e029",
   "metadata": {},
   "outputs": [],
   "source": [
    "train_ds = dataset['train']\n",
    "test_ds = dataset['test']\n",
    "val_ds = dataset['validation']"
   ]
  },
  {
   "cell_type": "code",
   "execution_count": 11,
   "id": "781fc8d4-302f-4c40-9e55-f2e9bcef1da3",
   "metadata": {},
   "outputs": [],
   "source": [
    "MODEL_CKPT='facebook/convnext-base-224-22k-1k'\n",
    "\n",
    "NUM_OF_EPOCHS = 5\n",
    "\n",
    "LEARNING_RATE=2e-4\n",
    "\n",
    "STEPS=100\n",
    "\n",
    "BATCH_SIZE = 16"
   ]
  },
  {
   "cell_type": "code",
   "execution_count": 12,
   "id": "2dd0812a-860c-4fd6-9f8e-7df326743121",
   "metadata": {},
   "outputs": [
    {
     "data": {
      "text/plain": [
       "{'image': Image(decode=True, id=None),\n",
       " 'label': ClassLabel(names=['non_tumor', 'tumor'], id=None)}"
      ]
     },
     "execution_count": 12,
     "metadata": {},
     "output_type": "execute_result"
    }
   ],
   "source": [
    "dataset[\"train\"].features"
   ]
  },
  {
   "cell_type": "code",
   "execution_count": 13,
   "id": "ef7d636a-8a17-4921-95b9-6eeabeb783a9",
   "metadata": {},
   "outputs": [
    {
     "data": {
      "image/jpeg": "[encoded data removed]",
      "image/png": "[encoded data removed]",
      "text/plain": [
       "<PIL.PngImagePlugin.PngImageFile image mode=RGB size=96x96>"
      ]
     },
     "execution_count": 13,
     "metadata": {},
     "output_type": "execute_result"
    }
   ],
   "source": [
    "example = dataset[\"train\"][2222]\n",
    "example['image'] "
   ]
  },
  {
   "cell_type": "code",
   "execution_count": 14,
   "id": "e0733721-efe1-4227-8df4-6e93aff1f7db",
   "metadata": {},
   "outputs": [
    {
     "data": {
      "text/plain": [
       "1"
      ]
     },
     "execution_count": 14,
     "metadata": {},
     "output_type": "execute_result"
    }
   ],
   "source": [
    "example['label']"
   ]
  },
  {
   "cell_type": "code",
   "execution_count": 15,
   "id": "0b5611a6-779e-4617-9a54-7e9c3d3e17f1",
   "metadata": {},
   "outputs": [],
   "source": [
    "def compute_metrics(p):\n",
    "    accuracy_metric = evaluate.load(\"accuracy\")\n",
    "    accuracy = accuracy_metric.compute(predictions=np.argmax(p.predictions, axis=1), references=p.label_ids)['accuracy']\n",
    "    \n",
    "    ### ------------------- F1 scores -------------------\n",
    "    \n",
    "    f1_score_metric = evaluate.load(\"f1\")\n",
    "    weighted_f1_score = f1_score_metric.compute(predictions=np.argmax(p.predictions, axis=1), references=p.label_ids, average='weighted')[\"f1\"]\n",
    "    micro_f1_score = f1_score_metric.compute(predictions=np.argmax(p.predictions, axis=1), references=p.label_ids, average='micro')['f1']\n",
    "    macro_f1_score = f1_score_metric.compute(predictions=np.argmax(p.predictions, axis=1), references=p.label_ids, average='macro')[\"f1\"]\n",
    "    \n",
    "    ### ------------------- recall -------------------\n",
    "    \n",
    "    recall_metric = evaluate.load(\"recall\")\n",
    "    weighted_recall = recall_metric.compute(predictions=np.argmax(p.predictions, axis=1), references=p.label_ids, average='weighted')[\"recall\"]\n",
    "    micro_recall = recall_metric.compute(predictions=np.argmax(p.predictions, axis=1), references=p.label_ids, average='micro')[\"recall\"]\n",
    "    macro_recall = recall_metric.compute(predictions=np.argmax(p.predictions, axis=1), references=p.label_ids, average='macro')[\"recall\"]\n",
    "    \n",
    "    ### ------------------- precision -------------------\n",
    "    \n",
    "    precision_metric = evaluate.load(\"precision\")\n",
    "    weighted_precision = precision_metric.compute(predictions=np.argmax(p.predictions, axis=1), references=p.label_ids, average='weighted')[\"precision\"]\n",
    "    micro_precision = precision_metric.compute(predictions=np.argmax(p.predictions, axis=1), references=p.label_ids, average='micro')[\"precision\"]\n",
    "    macro_precision = precision_metric.compute(predictions=np.argmax(p.predictions, axis=1), references=p.label_ids, average='macro')[\"precision\"]\n",
    "    \n",
    "    return {\"accuracy\" : accuracy, \n",
    "            \"Weighted F1\" : weighted_f1_score,\n",
    "            \"Micro F1\" : micro_f1_score,\n",
    "            \"Macro F1\" : macro_f1_score,\n",
    "            \"Weighted Recall\" : weighted_recall,\n",
    "            \"Micro Recall\" : micro_recall,\n",
    "            \"Macro Recall\" : macro_recall,\n",
    "            \"Weighted Precision\" : weighted_precision,\n",
    "            \"Micro Precision\" : micro_precision,\n",
    "            \"Macro Precision\" : macro_precision\n",
    "            }"
   ]
  },
  {
   "cell_type": "code",
   "execution_count": 16,
   "id": "49ff04ce-c1e9-47a0-8b62-de6354e3d362",
   "metadata": {},
   "outputs": [],
   "source": [
    "labels = dataset[\"train\"].features[\"label\"].names\n",
    "label2id, id2label = dict(), dict()\n",
    "for i, label in enumerate(labels):\n",
    "    label2id[label] = i\n",
    "    id2label[i] = label"
   ]
  },
  {
   "cell_type": "code",
   "execution_count": 17,
   "id": "5fc8f448-2814-4e8a-823d-6fe70d91159e",
   "metadata": {},
   "outputs": [
    {
     "data": {
      "text/plain": [
       "('non_tumor', 'tumor')"
      ]
     },
     "execution_count": 17,
     "metadata": {},
     "output_type": "execute_result"
    }
   ],
   "source": [
    "id2label[0] , id2label[1] "
   ]
  },
  {
   "cell_type": "code",
   "execution_count": 18,
   "id": "1430815d-54fc-4dc7-a8e1-50d201128fd7",
   "metadata": {},
   "outputs": [],
   "source": [
    "image_processor  = ConvNextImageProcessor.from_pretrained(MODEL_CKPT)"
   ]
  },
  {
   "cell_type": "code",
   "execution_count": 19,
   "id": "6610e5bf-07dd-4830-98d3-f713f6a01b7c",
   "metadata": {},
   "outputs": [
    {
     "data": {
      "text/plain": [
       "ConvNextImageProcessor {\n",
       "  \"crop_pct\": 0.875,\n",
       "  \"do_normalize\": true,\n",
       "  \"do_rescale\": true,\n",
       "  \"do_resize\": true,\n",
       "  \"feature_extractor_type\": \"ConvNextFeatureExtractor\",\n",
       "  \"image_mean\": [\n",
       "    0.485,\n",
       "    0.456,\n",
       "    0.406\n",
       "  ],\n",
       "  \"image_processor_type\": \"ConvNextImageProcessor\",\n",
       "  \"image_std\": [\n",
       "    0.229,\n",
       "    0.224,\n",
       "    0.225\n",
       "  ],\n",
       "  \"resample\": 3,\n",
       "  \"rescale_factor\": 0.00392156862745098,\n",
       "  \"size\": {\n",
       "    \"shortest_edge\": 224\n",
       "  }\n",
       "}"
      ]
     },
     "execution_count": 19,
     "metadata": {},
     "output_type": "execute_result"
    }
   ],
   "source": [
    "image_processor"
   ]
  },
  {
   "cell_type": "code",
   "execution_count": 20,
   "id": "e24f4acd-0eb6-4874-8cb1-0cfb67d2c9cb",
   "metadata": {},
   "outputs": [],
   "source": [
    "from torchvision.transforms import (\n",
    "    Normalize,\n",
    "    Compose,\n",
    "    Resize,\n",
    "    ToTensor,\n",
    ")\n",
    "\n",
    "normalize = Normalize(mean=image_processor.image_mean, std=image_processor.image_std)\n",
    "    \n",
    "transforms = Compose(\n",
    "        [\n",
    "            Resize(image_processor.size['shortest_edge']),\n",
    "            ToTensor(),\n",
    "            normalize\n",
    "        ]\n",
    "    )\n",
    "\n",
    "def preprocess(example_batch):\n",
    "    \"\"\"Apply train_transforms across a batch.\"\"\"\n",
    "    example_batch[\"pixel_values\"] = [\n",
    "        transforms(image.convert(\"RGB\")) for image in example_batch[\"image\"]\n",
    "    ]\n",
    "    \n",
    "    return example_batch\n"
   ]
  },
  {
   "cell_type": "code",
   "execution_count": 21,
   "id": "3e73ffa9-7467-48e0-84a0-eb056b1aa102",
   "metadata": {},
   "outputs": [],
   "source": [
    "train_ds.set_transform(preprocess)\n",
    "val_ds.set_transform(preprocess)\n",
    "test_ds.set_transform(preprocess)"
   ]
  },
  {
   "cell_type": "code",
   "execution_count": 22,
   "id": "9c8456ea-5f5e-49f7-aa48-6427eec37cda",
   "metadata": {},
   "outputs": [
    {
     "data": {
      "text/plain": [
       "{'image': <PIL.PngImagePlugin.PngImageFile image mode=RGB size=96x96>,\n",
       " 'label': 1,\n",
       " 'pixel_values': tensor([[[-0.6623, -0.7137, -0.8849,  ...,  0.3481,  0.3481,  0.3481],\n",
       "          [-0.6623, -0.7137, -0.8849,  ...,  0.3481,  0.3481,  0.3481],\n",
       "          [-0.6623, -0.7137, -0.8849,  ...,  0.3481,  0.3481,  0.3481],\n",
       "          ...,\n",
       "          [ 0.8276,  0.7248,  0.4679,  ...,  0.2796,  0.2796,  0.2796],\n",
       "          [ 0.5878,  0.4337, -0.0629,  ...,  0.4679,  0.4679,  0.4679],\n",
       "          [ 0.5193,  0.3309, -0.2513,  ...,  0.5364,  0.5364,  0.5364]],\n",
       " \n",
       "         [[-1.2654, -1.3179, -1.4930,  ..., -0.1800, -0.1800, -0.1800],\n",
       "          [-1.2654, -1.3179, -1.4930,  ..., -0.1800, -0.1800, -0.1800],\n",
       "          [-1.2654, -1.3179, -1.4930,  ..., -0.1800, -0.1800, -0.1800],\n",
       "          ...,\n",
       "          [ 0.3102,  0.2227, -0.0399,  ..., -0.2675, -0.2675, -0.2675],\n",
       "          [-0.0399, -0.1975, -0.6877,  ..., -0.0924, -0.0924, -0.0924],\n",
       "          [-0.1450, -0.3375, -0.8978,  ..., -0.0224, -0.0224, -0.0224]],\n",
       " \n",
       "         [[ 0.0256, -0.0441, -0.2358,  ...,  0.8971,  0.8971,  0.8971],\n",
       "          [ 0.0256, -0.0441, -0.2358,  ...,  0.8971,  0.8971,  0.8971],\n",
       "          [ 0.0256, -0.0441, -0.2358,  ...,  0.8971,  0.8971,  0.8971],\n",
       "          ...,\n",
       "          [ 1.6640,  1.5942,  1.3154,  ...,  0.9145,  0.9145,  0.9145],\n",
       "          [ 1.4200,  1.2457,  0.7402,  ...,  1.1237,  1.1237,  1.1237],\n",
       "          [ 1.3328,  1.1411,  0.5485,  ...,  1.1934,  1.1934,  1.1934]]])}"
      ]
     },
     "execution_count": 22,
     "metadata": {},
     "output_type": "execute_result"
    }
   ],
   "source": [
    "train_ds[0]"
   ]
  },
  {
   "cell_type": "code",
   "execution_count": 23,
   "id": "cdb644ea-5304-48d2-a06d-667d21f652f1",
   "metadata": {},
   "outputs": [
    {
     "name": "stderr",
     "output_type": "stream",
     "text": [
      "Some weights of ConvNextForImageClassification were not initialized from the model checkpoint at facebook/convnext-base-224-22k-1k and are newly initialized because the shapes did not match:\n",
      "- classifier.bias: found shape torch.Size([1000]) in the checkpoint and torch.Size([2]) in the model instantiated\n",
      "- classifier.weight: found shape torch.Size([1000, 1024]) in the checkpoint and torch.Size([2, 1024]) in the model instantiated\n",
      "You should probably TRAIN this model on a down-stream task to be able to use it for predictions and inference.\n"
     ]
    }
   ],
   "source": [
    "model = AutoModelForImageClassification.from_pretrained(\n",
    "    MODEL_CKPT,\n",
    "    label2id=label2id,\n",
    "    id2label=id2label,\n",
    "    ignore_mismatched_sizes = True, # provide this in case you're planning to fine-tune an already fine-tuned checkpoint\n",
    ").to(device)"
   ]
  },
  {
   "cell_type": "code",
   "execution_count": 24,
   "id": "bcb40de6-3d98-46ba-bc1e-0f0eee2ad194",
   "metadata": {},
   "outputs": [],
   "source": [
    "model_name = MODEL_CKPT.split(\"/\")[-1]\n",
    "\n",
    "args = TrainingArguments(\n",
    "    f\"{model_name}-finetuned\",\n",
    "    remove_unused_columns=False,\n",
    "    evaluation_strategy = \"epoch\",\n",
    "    save_strategy = \"epoch\",\n",
    "    learning_rate=LEARNING_RATE,\n",
    "    per_device_train_batch_size=BATCH_SIZE,\n",
    "    per_device_eval_batch_size=BATCH_SIZE,\n",
    "    num_train_epochs=NUM_OF_EPOCHS,\n",
    "    weight_decay=0.01,\n",
    "    logging_steps=10,\n",
    "    load_best_model_at_end=True,\n",
    "    metric_for_best_model=\"accuracy\",\n",
    "    logging_dir='./logs'\n",
    ")"
   ]
  },
  {
   "cell_type": "code",
   "execution_count": 25,
   "id": "81d7c488-4763-4237-bad8-11c51cd4042b",
   "metadata": {},
   "outputs": [],
   "source": [
    "def collate_fn(examples):\n",
    "    pixel_values = torch.stack([example[\"pixel_values\"] for example in examples])\n",
    "    labels = torch.tensor([example[\"label\"] for example in examples])\n",
    "    return {\"pixel_values\": pixel_values, \"labels\": labels}"
   ]
  },
  {
   "cell_type": "code",
   "execution_count": 26,
   "id": "fe683319-9938-4cac-95ca-0dd87bc31e30",
   "metadata": {},
   "outputs": [],
   "source": [
    "early_stopping = EarlyStoppingCallback(early_stopping_patience=2, early_stopping_threshold=0.01)"
   ]
  },
  {
   "cell_type": "code",
   "execution_count": 27,
   "id": "b933ff41-35e8-45c6-9925-08587775b7fa",
   "metadata": {},
   "outputs": [],
   "source": [
    "trainer = Trainer(\n",
    "    model,\n",
    "    args,\n",
    "    train_dataset = train_ds,\n",
    "    eval_dataset = val_ds,\n",
    "    tokenizer = image_processor,\n",
    "    compute_metrics = compute_metrics,\n",
    "    data_collator = collate_fn,\n",
    "    callbacks=[early_stopping]\n",
    "    \n",
    ")"
   ]
  },
  {
   "cell_type": "code",
   "execution_count": 28,
   "id": "f8b0d0a1-a6d5-4b59-876d-720d7b73219c",
   "metadata": {},
   "outputs": [
    {
     "data": {
      "text/html": [
       "\n",
       "    <div>\n",
       "      \n",
       "      <progress value='9375' max='9375' style='width:300px; height:20px; vertical-align: middle;'></progress>\n",
       "      [9375/9375 1:52:37, Epoch 5/5]\n",
       "    </div>\n",
       "    <table border=\"1\" class=\"dataframe\">\n",
       "  <thead>\n",
       " <tr style=\"text-align: left;\">\n",
       "      <th>Epoch</th>\n",
       "      <th>Training Loss</th>\n",
       "      <th>Validation Loss</th>\n",
       "      <th>Accuracy</th>\n",
       "      <th>Weighted f1</th>\n",
       "      <th>Micro f1</th>\n",
       "      <th>Macro f1</th>\n",
       "      <th>Weighted recall</th>\n",
       "      <th>Micro recall</th>\n",
       "      <th>Macro recall</th>\n",
       "      <th>Weighted precision</th>\n",
       "      <th>Micro precision</th>\n",
       "      <th>Macro precision</th>\n",
       "    </tr>\n",
       "  </thead>\n",
       "  <tbody>\n",
       "    <tr>\n",
       "      <td>1</td>\n",
       "      <td>0.307600</td>\n",
       "      <td>0.240313</td>\n",
       "      <td>0.900900</td>\n",
       "      <td>0.900877</td>\n",
       "      <td>0.900900</td>\n",
       "      <td>0.900877</td>\n",
       "      <td>0.900900</td>\n",
       "      <td>0.900900</td>\n",
       "      <td>0.900900</td>\n",
       "      <td>0.901266</td>\n",
       "      <td>0.900900</td>\n",
       "      <td>0.901266</td>\n",
       "    </tr>\n",
       "    <tr>\n",
       "      <td>2</td>\n",
       "      <td>0.246100</td>\n",
       "      <td>0.477811</td>\n",
       "      <td>0.870000</td>\n",
       "      <td>0.868378</td>\n",
       "      <td>0.870000</td>\n",
       "      <td>0.868378</td>\n",
       "      <td>0.870000</td>\n",
       "      <td>0.870000</td>\n",
       "      <td>0.870000</td>\n",
       "      <td>0.889180</td>\n",
       "      <td>0.870000</td>\n",
       "      <td>0.889180</td>\n",
       "    </tr>\n",
       "    <tr>\n",
       "      <td>3</td>\n",
       "      <td>0.010200</td>\n",
       "      <td>0.303019</td>\n",
       "      <td>0.923700</td>\n",
       "      <td>0.923533</td>\n",
       "      <td>0.923700</td>\n",
       "      <td>0.923533</td>\n",
       "      <td>0.923700</td>\n",
       "      <td>0.923700</td>\n",
       "      <td>0.923700</td>\n",
       "      <td>0.927429</td>\n",
       "      <td>0.923700</td>\n",
       "      <td>0.927429</td>\n",
       "    </tr>\n",
       "    <tr>\n",
       "      <td>4</td>\n",
       "      <td>0.000100</td>\n",
       "      <td>0.430920</td>\n",
       "      <td>0.931700</td>\n",
       "      <td>0.931699</td>\n",
       "      <td>0.931700</td>\n",
       "      <td>0.931699</td>\n",
       "      <td>0.931700</td>\n",
       "      <td>0.931700</td>\n",
       "      <td>0.931700</td>\n",
       "      <td>0.931721</td>\n",
       "      <td>0.931700</td>\n",
       "      <td>0.931721</td>\n",
       "    </tr>\n",
       "    <tr>\n",
       "      <td>5</td>\n",
       "      <td>0.000000</td>\n",
       "      <td>0.470210</td>\n",
       "      <td>0.937100</td>\n",
       "      <td>0.937093</td>\n",
       "      <td>0.937100</td>\n",
       "      <td>0.937093</td>\n",
       "      <td>0.937100</td>\n",
       "      <td>0.937100</td>\n",
       "      <td>0.937100</td>\n",
       "      <td>0.937286</td>\n",
       "      <td>0.937100</td>\n",
       "      <td>0.937286</td>\n",
       "    </tr>\n",
       "  </tbody>\n",
       "</table><p>"
      ],
      "text/plain": [
       "<IPython.core.display.HTML object>"
      ]
     },
     "metadata": {},
     "output_type": "display_data"
    }
   ],
   "source": [
    "train_results = trainer.train()"
   ]
  },
  {
   "cell_type": "code",
   "execution_count": 29,
   "id": "f09fee28-6745-4e1d-8e95-506b0ddd80c8",
   "metadata": {},
   "outputs": [],
   "source": [
    "trainer.save_model()"
   ]
  },
  {
   "cell_type": "code",
   "execution_count": 30,
   "id": "ce01fe86-e2e1-44fe-8ada-6c2f27113eae",
   "metadata": {},
   "outputs": [
    {
     "name": "stdout",
     "output_type": "stream",
     "text": [
      "***** train metrics *****\n",
      "  epoch                    =           5.0\n",
      "  total_flos               = 11048616792GF\n",
      "  train_loss               =        0.1281\n",
      "  train_runtime            =    1:52:42.35\n",
      "  train_samples_per_second =        22.182\n",
      "  train_steps_per_second   =         1.386\n"
     ]
    }
   ],
   "source": [
    "trainer.log_metrics(\"train\", train_results.metrics)\n",
    "trainer.save_metrics(\"train\", train_results.metrics)"
   ]
  },
  {
   "cell_type": "code",
   "execution_count": 31,
   "id": "59b55378-16bd-4a4e-ac2e-9673dc89c1cb",
   "metadata": {},
   "outputs": [],
   "source": [
    "trainer.save_state()"
   ]
  },
  {
   "cell_type": "code",
   "execution_count": 32,
   "id": "f5e7b423-589d-4b34-86c2-85ae686ca0ae",
   "metadata": {},
   "outputs": [
    {
     "data": {
      "text/html": [],
      "text/plain": [
       "<IPython.core.display.HTML object>"
      ]
     },
     "metadata": {},
     "output_type": "display_data"
    },
    {
     "name": "stdout",
     "output_type": "stream",
     "text": [
      "***** eval metrics *****\n",
      "  epoch                   =        5.0\n",
      "  eval_Macro F1           =     0.9335\n",
      "  eval_Macro Precision    =     0.9336\n",
      "  eval_Macro Recall       =     0.9335\n",
      "  eval_Micro F1           =     0.9335\n",
      "  eval_Micro Precision    =     0.9335\n",
      "  eval_Micro Recall       =     0.9335\n",
      "  eval_Weighted F1        =     0.9335\n",
      "  eval_Weighted Precision =     0.9336\n",
      "  eval_Weighted Recall    =     0.9335\n",
      "  eval_accuracy           =     0.9335\n",
      "  eval_loss               =     0.5039\n",
      "  eval_runtime            = 0:02:45.72\n",
      "  eval_samples_per_second =     60.342\n",
      "  eval_steps_per_second   =      3.771\n"
     ]
    }
   ],
   "source": [
    "metrics = trainer.evaluate(test_ds)\n",
    "trainer.log_metrics(\"eval\", metrics)\n",
    "trainer.save_metrics(\"eval\", metrics)"
   ]
  },
  {
   "cell_type": "code",
   "execution_count": 33,
   "id": "d971655c-21e7-4d23-bedf-fd8935189a41",
   "metadata": {},
   "outputs": [],
   "source": [
    "predictions = trainer.predict(test_ds)"
   ]
  },
  {
   "cell_type": "code",
   "execution_count": 34,
   "id": "424b238a-a9d4-463c-b4bb-e319b1e3070b",
   "metadata": {},
   "outputs": [
    {
     "data": {
      "text/plain": [
       "array([[ 6.514452 , -6.5143914],\n",
       "       [ 6.4064403, -6.4063935],\n",
       "       [ 5.192208 , -5.1921453],\n",
       "       ...,\n",
       "       [ 4.509867 , -4.509822 ],\n",
       "       [ 5.664172 , -5.6641088],\n",
       "       [-5.887316 ,  5.8871613]], dtype=float32)"
      ]
     },
     "execution_count": 34,
     "metadata": {},
     "output_type": "execute_result"
    }
   ],
   "source": [
    "predictions[0]"
   ]
  },
  {
   "cell_type": "code",
   "execution_count": 35,
   "id": "e96ea3c6-24af-414b-92a0-c38369e29992",
   "metadata": {},
   "outputs": [],
   "source": [
    "y_pred = np.argmax(predictions[0],axis=1)"
   ]
  },
  {
   "cell_type": "code",
   "execution_count": 36,
   "id": "a7b52f53-19dc-42ed-bf16-09e8bb8a1bf3",
   "metadata": {},
   "outputs": [
    {
     "data": {
      "text/plain": [
       "array([0, 0, 0, ..., 0, 0, 1], dtype=int64)"
      ]
     },
     "execution_count": 36,
     "metadata": {},
     "output_type": "execute_result"
    }
   ],
   "source": [
    "y_pred"
   ]
  },
  {
   "cell_type": "code",
   "execution_count": 37,
   "id": "315e5a02-3360-4617-bd35-fd2dbf1e2cab",
   "metadata": {},
   "outputs": [
    {
     "data": {
      "text/plain": [
       "(10000,)"
      ]
     },
     "execution_count": 37,
     "metadata": {},
     "output_type": "execute_result"
    }
   ],
   "source": [
    "y_pred.shape"
   ]
  },
  {
   "cell_type": "code",
   "execution_count": 38,
   "id": "b487af06-6ac2-44fa-8982-c59471387a9d",
   "metadata": {},
   "outputs": [],
   "source": [
    "y_test = []\n",
    "\n",
    "for i,j in enumerate(test_ds):\n",
    "    y_test.append(test_ds[i]['label'])"
   ]
  },
  {
   "cell_type": "code",
   "execution_count": 39,
   "id": "12c75a65-b3e7-4797-80bd-718d4fdb3298",
   "metadata": {},
   "outputs": [],
   "source": [
    "y_test = np.array(y_test)"
   ]
  },
  {
   "cell_type": "code",
   "execution_count": 40,
   "id": "6fab4c42-db70-4c9e-a7c9-0157b5f62ce9",
   "metadata": {},
   "outputs": [
    {
     "data": {
      "text/plain": [
       "array([0, 0, 0, ..., 0, 0, 1])"
      ]
     },
     "execution_count": 40,
     "metadata": {},
     "output_type": "execute_result"
    }
   ],
   "source": [
    "y_test"
   ]
  },
  {
   "cell_type": "code",
   "execution_count": 41,
   "id": "038e1c04-805b-4049-8894-51a3b1239617",
   "metadata": {},
   "outputs": [
    {
     "data": {
      "text/plain": [
       "(10000,)"
      ]
     },
     "execution_count": 41,
     "metadata": {},
     "output_type": "execute_result"
    }
   ],
   "source": [
    "y_test.shape"
   ]
  },
  {
   "cell_type": "code",
   "execution_count": 42,
   "id": "6e9c0bf8-3ea4-4639-87de-dc2f96bf6b04",
   "metadata": {},
   "outputs": [
    {
     "name": "stdout",
     "output_type": "stream",
     "text": [
      "[[4708  292]\n",
      " [ 373 4627]]\n"
     ]
    }
   ],
   "source": [
    "print(confusion_matrix(y_test,y_pred))"
   ]
  },
  {
   "cell_type": "code",
   "execution_count": 43,
   "id": "403ac510-45c1-4e1a-9c0b-9f8f64ec3e84",
   "metadata": {},
   "outputs": [
    {
     "name": "stdout",
     "output_type": "stream",
     "text": [
      "              precision    recall  f1-score   support\n",
      "\n",
      "           0       0.93      0.94      0.93      5000\n",
      "           1       0.94      0.93      0.93      5000\n",
      "\n",
      "    accuracy                           0.93     10000\n",
      "   macro avg       0.93      0.93      0.93     10000\n",
      "weighted avg       0.93      0.93      0.93     10000\n",
      "\n"
     ]
    }
   ],
   "source": [
    "print(classification_report(y_test,y_pred))"
   ]
  },
  {
   "cell_type": "code",
   "execution_count": 44,
   "id": "538b58a1-0c1e-4999-af31-132f16b690e5",
   "metadata": {},
   "outputs": [],
   "source": [
    "target_classes=[]\n",
    "\n",
    "label_map = { 0 :'non_tumor', 1:\"tumor\"}\n",
    "\n",
    "\n",
    "for i in label_map.values():\n",
    "    target_classes.append(i) "
   ]
  },
  {
   "cell_type": "code",
   "execution_count": 45,
   "id": "70cd43b4-d5f3-4f21-a08f-b7c3ca65bd0e",
   "metadata": {},
   "outputs": [
    {
     "data": {
      "text/plain": [
       "['non_tumor', 'tumor']"
      ]
     },
     "execution_count": 45,
     "metadata": {},
     "output_type": "execute_result"
    }
   ],
   "source": [
    "target_classes"
   ]
  },
  {
   "cell_type": "code",
   "execution_count": null,
   "id": "f9915a7a-a81b-4684-a562-9bb473763bff",
   "metadata": {},
   "outputs": [],
   "source": [
    "ax = ConfusionMatrixDisplay(confusion_matrix=confusion_matrix(y_test,y_pred), display_labels=target_classes)\n",
    "ax.plot()\n",
    "plt.savefig('convnext.png',format= 'png')\n",
    "plt.show()"
   ]
  },
  {
   "cell_type": "code",
   "execution_count": 46,
   "id": "eb08fcb4-be32-41e2-8f4b-4cc84d45c6ee",
   "metadata": {},
   "outputs": [
    {
     "data": {
      "application/vnd.jupyter.widget-view+json": {
       "model_id": "5276544c443d44c39db3dbc731666525",
       "version_major": 2,
       "version_minor": 0
      },
      "text/plain": [
       "model.safetensors:   0%|          | 0.00/350M [00:00<?, ?B/s]"
      ]
     },
     "metadata": {},
     "output_type": "display_data"
    },
    {
     "data": {
      "text/plain": [
       "CommitInfo(commit_url='https://huggingface.co/anurag2op/convnext-base-224-22k-1k-pcam-finetuned/commit/bbec0c3d0ecf350629f029b10caaa98b00401a43', commit_message='Upload processor', commit_description='', oid='bbec0c3d0ecf350629f029b10caaa98b00401a43', pr_url=None, pr_revision=None, pr_num=None)"
      ]
     },
     "execution_count": 46,
     "metadata": {},
     "output_type": "execute_result"
    }
   ],
   "source": [
    "repo_name = \"convnext-base-224-22k-1k-pcam-finetuned\"\n",
    "\n",
    "model.push_to_hub(repo_name)\n",
    "image_processor.push_to_hub(repo_name)"
   ]
  },
  {
   "cell_type": "code",
   "execution_count": null,
   "id": "0ef46ac9-25aa-4e62-b701-d6a5d037a496",
   "metadata": {},
   "outputs": [],
   "source": []
  }
 ],
 "metadata": {
  "kernelspec": {
   "display_name": "Python 3 (ipykernel)",
   "language": "python",
   "name": "python3"
  },
  "language_info": {
   "codemirror_mode": {
    "name": "ipython",
    "version": 3
   },
   "file_extension": ".py",
   "mimetype": "text/x-python",
   "name": "python",
   "nbconvert_exporter": "python",
   "pygments_lexer": "ipython3",
   "version": "3.10.13"
  }
 },
 "nbformat": 4,
 "nbformat_minor": 5
}
